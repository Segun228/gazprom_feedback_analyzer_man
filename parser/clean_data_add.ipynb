{
 "cells": [
  {
   "cell_type": "code",
   "execution_count": 6,
   "id": "62fd2e34",
   "metadata": {},
   "outputs": [],
   "source": [
    "import pandas as pd\n",
    "import numpy as np\n",
    "import matplotlib.pyplot as plt\n",
    "import sklearn as sk"
   ]
  },
  {
   "cell_type": "code",
   "execution_count": 7,
   "id": "c1a15d94",
   "metadata": {},
   "outputs": [],
   "source": [
    "import re"
   ]
  },
  {
   "cell_type": "code",
   "execution_count": 8,
   "id": "9c80020f",
   "metadata": {},
   "outputs": [],
   "source": [
    "df = pd.read_excel(\n",
    "    \"raw_positive.xlsx\",\n",
    ")\n"
   ]
  },
  {
   "cell_type": "code",
   "execution_count": 9,
   "id": "5d8217cc",
   "metadata": {},
   "outputs": [
    {
     "data": {
      "text/html": [
       "<div>\n",
       "<style scoped>\n",
       "    .dataframe tbody tr th:only-of-type {\n",
       "        vertical-align: middle;\n",
       "    }\n",
       "\n",
       "    .dataframe tbody tr th {\n",
       "        vertical-align: top;\n",
       "    }\n",
       "\n",
       "    .dataframe thead th {\n",
       "        text-align: right;\n",
       "    }\n",
       "</style>\n",
       "<table border=\"1\" class=\"dataframe\">\n",
       "  <thead>\n",
       "    <tr style=\"text-align: right;\">\n",
       "      <th></th>\n",
       "      <th>title</th>\n",
       "      <th>text</th>\n",
       "      <th>source</th>\n",
       "    </tr>\n",
       "  </thead>\n",
       "  <tbody>\n",
       "    <tr>\n",
       "      <th>0</th>\n",
       "      <td>Мир</td>\n",
       "      <td>Пенсия моя уже несколько лет находится в НПФ Г...</td>\n",
       "      <td>vzo.ru</td>\n",
       "    </tr>\n",
       "    <tr>\n",
       "      <th>1</th>\n",
       "      <td>Развитие</td>\n",
       "      <td>В свое время банк мне здорово помог и поддержа...</td>\n",
       "      <td>vzo.ru</td>\n",
       "    </tr>\n",
       "    <tr>\n",
       "      <th>2</th>\n",
       "      <td>Интернет-эквайринг</td>\n",
       "      <td>Серьезная проверка сайта,поддержка разных плат...</td>\n",
       "      <td>vzo.ru</td>\n",
       "    </tr>\n",
       "    <tr>\n",
       "      <th>3</th>\n",
       "      <td>ГАЗФОНД пенсионные накопления</td>\n",
       "      <td>Пенсия – время отдыхать и тратить заработанное...</td>\n",
       "      <td>vzo.ru</td>\n",
       "    </tr>\n",
       "    <tr>\n",
       "      <th>4</th>\n",
       "      <td>Дальневосточная ипотека</td>\n",
       "      <td>В связи с переездом на Дальний Восток я решила...</td>\n",
       "      <td>vzo.ru</td>\n",
       "    </tr>\n",
       "  </tbody>\n",
       "</table>\n",
       "</div>"
      ],
      "text/plain": [
       "                           title  \\\n",
       "0                            Мир   \n",
       "1                       Развитие   \n",
       "2             Интернет-эквайринг   \n",
       "3  ГАЗФОНД пенсионные накопления   \n",
       "4        Дальневосточная ипотека   \n",
       "\n",
       "                                                text  source  \n",
       "0  Пенсия моя уже несколько лет находится в НПФ Г...  vzo.ru  \n",
       "1  В свое время банк мне здорово помог и поддержа...  vzo.ru  \n",
       "2  Серьезная проверка сайта,поддержка разных плат...  vzo.ru  \n",
       "3  Пенсия – время отдыхать и тратить заработанное...  vzo.ru  \n",
       "4  В связи с переездом на Дальний Восток я решила...  vzo.ru  "
      ]
     },
     "execution_count": 9,
     "metadata": {},
     "output_type": "execute_result"
    }
   ],
   "source": [
    "df.head()"
   ]
  },
  {
   "cell_type": "code",
   "execution_count": 10,
   "id": "17c442d5",
   "metadata": {},
   "outputs": [],
   "source": [
    "df = df[[\"title\", \"text\", \"source\"]]"
   ]
  },
  {
   "cell_type": "code",
   "execution_count": 11,
   "id": "776a4fa5",
   "metadata": {},
   "outputs": [
    {
     "data": {
      "text/html": [
       "<div>\n",
       "<style scoped>\n",
       "    .dataframe tbody tr th:only-of-type {\n",
       "        vertical-align: middle;\n",
       "    }\n",
       "\n",
       "    .dataframe tbody tr th {\n",
       "        vertical-align: top;\n",
       "    }\n",
       "\n",
       "    .dataframe thead th {\n",
       "        text-align: right;\n",
       "    }\n",
       "</style>\n",
       "<table border=\"1\" class=\"dataframe\">\n",
       "  <thead>\n",
       "    <tr style=\"text-align: right;\">\n",
       "      <th></th>\n",
       "      <th>title</th>\n",
       "      <th>text</th>\n",
       "      <th>source</th>\n",
       "    </tr>\n",
       "  </thead>\n",
       "  <tbody>\n",
       "    <tr>\n",
       "      <th>0</th>\n",
       "      <td>Мир</td>\n",
       "      <td>Пенсия моя уже несколько лет находится в НПФ Г...</td>\n",
       "      <td>vzo.ru</td>\n",
       "    </tr>\n",
       "    <tr>\n",
       "      <th>1</th>\n",
       "      <td>Развитие</td>\n",
       "      <td>В свое время банк мне здорово помог и поддержа...</td>\n",
       "      <td>vzo.ru</td>\n",
       "    </tr>\n",
       "    <tr>\n",
       "      <th>2</th>\n",
       "      <td>Интернет-эквайринг</td>\n",
       "      <td>Серьезная проверка сайта,поддержка разных плат...</td>\n",
       "      <td>vzo.ru</td>\n",
       "    </tr>\n",
       "    <tr>\n",
       "      <th>3</th>\n",
       "      <td>ГАЗФОНД пенсионные накопления</td>\n",
       "      <td>Пенсия – время отдыхать и тратить заработанное...</td>\n",
       "      <td>vzo.ru</td>\n",
       "    </tr>\n",
       "    <tr>\n",
       "      <th>4</th>\n",
       "      <td>Дальневосточная ипотека</td>\n",
       "      <td>В связи с переездом на Дальний Восток я решила...</td>\n",
       "      <td>vzo.ru</td>\n",
       "    </tr>\n",
       "  </tbody>\n",
       "</table>\n",
       "</div>"
      ],
      "text/plain": [
       "                           title  \\\n",
       "0                            Мир   \n",
       "1                       Развитие   \n",
       "2             Интернет-эквайринг   \n",
       "3  ГАЗФОНД пенсионные накопления   \n",
       "4        Дальневосточная ипотека   \n",
       "\n",
       "                                                text  source  \n",
       "0  Пенсия моя уже несколько лет находится в НПФ Г...  vzo.ru  \n",
       "1  В свое время банк мне здорово помог и поддержа...  vzo.ru  \n",
       "2  Серьезная проверка сайта,поддержка разных плат...  vzo.ru  \n",
       "3  Пенсия – время отдыхать и тратить заработанное...  vzo.ru  \n",
       "4  В связи с переездом на Дальний Восток я решила...  vzo.ru  "
      ]
     },
     "execution_count": 11,
     "metadata": {},
     "output_type": "execute_result"
    }
   ],
   "source": [
    "df.head()"
   ]
  },
  {
   "cell_type": "code",
   "execution_count": 12,
   "id": "84b2f122",
   "metadata": {},
   "outputs": [
    {
     "data": {
      "text/html": [
       "<div>\n",
       "<style scoped>\n",
       "    .dataframe tbody tr th:only-of-type {\n",
       "        vertical-align: middle;\n",
       "    }\n",
       "\n",
       "    .dataframe tbody tr th {\n",
       "        vertical-align: top;\n",
       "    }\n",
       "\n",
       "    .dataframe thead th {\n",
       "        text-align: right;\n",
       "    }\n",
       "</style>\n",
       "<table border=\"1\" class=\"dataframe\">\n",
       "  <thead>\n",
       "    <tr style=\"text-align: right;\">\n",
       "      <th></th>\n",
       "      <th>title</th>\n",
       "      <th>text</th>\n",
       "      <th>source</th>\n",
       "      <th>title_words</th>\n",
       "      <th>text_words</th>\n",
       "    </tr>\n",
       "  </thead>\n",
       "  <tbody>\n",
       "    <tr>\n",
       "      <th>0</th>\n",
       "      <td>мир</td>\n",
       "      <td>пенсия моя уже несколько лет находится в нпф г...</td>\n",
       "      <td>vzo.ru</td>\n",
       "      <td>[мир]</td>\n",
       "      <td>[пенсия, моя, уже, несколько, лет, находится, ...</td>\n",
       "    </tr>\n",
       "    <tr>\n",
       "      <th>1</th>\n",
       "      <td>развитие</td>\n",
       "      <td>в свое время банк мне здорово помог и поддержа...</td>\n",
       "      <td>vzo.ru</td>\n",
       "      <td>[развитие]</td>\n",
       "      <td>[в, свое, время, банк, мне, здорово, помог, и,...</td>\n",
       "    </tr>\n",
       "    <tr>\n",
       "      <th>2</th>\n",
       "      <td>интернетэквайринг</td>\n",
       "      <td>серьезная проверка сайтаподдержка разных плате...</td>\n",
       "      <td>vzo.ru</td>\n",
       "      <td>[интернетэквайринг]</td>\n",
       "      <td>[серьезная, проверка, сайтаподдержка, разных, ...</td>\n",
       "    </tr>\n",
       "    <tr>\n",
       "      <th>3</th>\n",
       "      <td>газфонд пенсионные накопления</td>\n",
       "      <td>пенсия  время отдыхать и тратить заработанное ...</td>\n",
       "      <td>vzo.ru</td>\n",
       "      <td>[газфонд, пенсионные, накопления]</td>\n",
       "      <td>[пенсия, время, отдыхать, и, тратить, заработа...</td>\n",
       "    </tr>\n",
       "    <tr>\n",
       "      <th>4</th>\n",
       "      <td>дальневосточная ипотека</td>\n",
       "      <td>в связи с переездом на дальний восток я решила...</td>\n",
       "      <td>vzo.ru</td>\n",
       "      <td>[дальневосточная, ипотека]</td>\n",
       "      <td>[в, связи, с, переездом, на, дальний, восток, ...</td>\n",
       "    </tr>\n",
       "  </tbody>\n",
       "</table>\n",
       "</div>"
      ],
      "text/plain": [
       "                           title  \\\n",
       "0                            мир   \n",
       "1                       развитие   \n",
       "2              интернетэквайринг   \n",
       "3  газфонд пенсионные накопления   \n",
       "4        дальневосточная ипотека   \n",
       "\n",
       "                                                text  source  \\\n",
       "0  пенсия моя уже несколько лет находится в нпф г...  vzo.ru   \n",
       "1  в свое время банк мне здорово помог и поддержа...  vzo.ru   \n",
       "2  серьезная проверка сайтаподдержка разных плате...  vzo.ru   \n",
       "3  пенсия  время отдыхать и тратить заработанное ...  vzo.ru   \n",
       "4  в связи с переездом на дальний восток я решила...  vzo.ru   \n",
       "\n",
       "                         title_words  \\\n",
       "0                              [мир]   \n",
       "1                         [развитие]   \n",
       "2                [интернетэквайринг]   \n",
       "3  [газфонд, пенсионные, накопления]   \n",
       "4         [дальневосточная, ипотека]   \n",
       "\n",
       "                                          text_words  \n",
       "0  [пенсия, моя, уже, несколько, лет, находится, ...  \n",
       "1  [в, свое, время, банк, мне, здорово, помог, и,...  \n",
       "2  [серьезная, проверка, сайтаподдержка, разных, ...  \n",
       "3  [пенсия, время, отдыхать, и, тратить, заработа...  \n",
       "4  [в, связи, с, переездом, на, дальний, восток, ...  "
      ]
     },
     "execution_count": 12,
     "metadata": {},
     "output_type": "execute_result"
    }
   ],
   "source": [
    "import re\n",
    "\n",
    "def ser_cleaner(row):\n",
    "    row[\"title\"] = re.sub(r'[^\\w\\s]', '', str(row[\"title\"]).strip().lower())\n",
    "    row[\"text\"] = re.sub(r'[^\\w\\s]', '', str(row[\"text\"]).strip().lower())\n",
    "    row[\"title_words\"] = row[\"title\"].split()\n",
    "    row[\"text_words\"] = row[\"text\"].split()\n",
    "    return row\n",
    "\n",
    "\n",
    "df = df.apply(ser_cleaner, axis=1)\n",
    "\n",
    "df.head()\n",
    "\n"
   ]
  },
  {
   "cell_type": "code",
   "execution_count": 13,
   "id": "d52603d0",
   "metadata": {},
   "outputs": [
    {
     "name": "stdout",
     "output_type": "stream",
     "text": [
      "<class 'pandas.core.frame.DataFrame'>\n",
      "RangeIndex: 591 entries, 0 to 590\n",
      "Data columns (total 5 columns):\n",
      " #   Column       Non-Null Count  Dtype \n",
      "---  ------       --------------  ----- \n",
      " 0   title        591 non-null    object\n",
      " 1   text         591 non-null    object\n",
      " 2   source       591 non-null    object\n",
      " 3   title_words  591 non-null    object\n",
      " 4   text_words   591 non-null    object\n",
      "dtypes: object(5)\n",
      "memory usage: 23.2+ KB\n"
     ]
    }
   ],
   "source": [
    "df.info()"
   ]
  },
  {
   "cell_type": "code",
   "execution_count": null,
   "id": "c123eaa0",
   "metadata": {},
   "outputs": [
    {
     "data": {
      "text/plain": [
       "(591, 5)"
      ]
     },
     "execution_count": 14,
     "metadata": {},
     "output_type": "execute_result"
    }
   ],
   "source": [
    "df.shape"
   ]
  },
  {
   "cell_type": "code",
   "execution_count": 15,
   "id": "dad6a809",
   "metadata": {},
   "outputs": [],
   "source": [
    "df.to_csv(\"ready_csv_positive.csv\")\n",
    "df.to_excel(\"ready_xlsx_positive.xlsx\")\n",
    "df.to_json(\"ready_json_positive.json\", orient=\"records\")"
   ]
  },
  {
   "cell_type": "code",
   "execution_count": 20,
   "id": "e472327f",
   "metadata": {},
   "outputs": [
    {
     "data": {
      "text/html": [
       "<div>\n",
       "<style scoped>\n",
       "    .dataframe tbody tr th:only-of-type {\n",
       "        vertical-align: middle;\n",
       "    }\n",
       "\n",
       "    .dataframe tbody tr th {\n",
       "        vertical-align: top;\n",
       "    }\n",
       "\n",
       "    .dataframe thead th {\n",
       "        text-align: right;\n",
       "    }\n",
       "</style>\n",
       "<table border=\"1\" class=\"dataframe\">\n",
       "  <thead>\n",
       "    <tr style=\"text-align: right;\">\n",
       "      <th></th>\n",
       "      <th>title</th>\n",
       "      <th>text</th>\n",
       "      <th>source</th>\n",
       "      <th>title_words</th>\n",
       "      <th>text_words</th>\n",
       "    </tr>\n",
       "  </thead>\n",
       "  <tbody>\n",
       "    <tr>\n",
       "      <th>0</th>\n",
       "      <td>мир</td>\n",
       "      <td>пенсия моя уже несколько лет находится в нпф г...</td>\n",
       "      <td>vzo.ru</td>\n",
       "      <td>[мир]</td>\n",
       "      <td>[пенсия, моя, уже, несколько, лет, находится, ...</td>\n",
       "    </tr>\n",
       "    <tr>\n",
       "      <th>1</th>\n",
       "      <td>развитие</td>\n",
       "      <td>в свое время банк мне здорово помог и поддержа...</td>\n",
       "      <td>vzo.ru</td>\n",
       "      <td>[развитие]</td>\n",
       "      <td>[в, свое, время, банк, мне, здорово, помог, и,...</td>\n",
       "    </tr>\n",
       "    <tr>\n",
       "      <th>2</th>\n",
       "      <td>интернетэквайринг</td>\n",
       "      <td>серьезная проверка сайтаподдержка разных плате...</td>\n",
       "      <td>vzo.ru</td>\n",
       "      <td>[интернетэквайринг]</td>\n",
       "      <td>[серьезная, проверка, сайтаподдержка, разных, ...</td>\n",
       "    </tr>\n",
       "    <tr>\n",
       "      <th>3</th>\n",
       "      <td>газфонд пенсионные накопления</td>\n",
       "      <td>пенсия  время отдыхать и тратить заработанное ...</td>\n",
       "      <td>vzo.ru</td>\n",
       "      <td>[газфонд, пенсионные, накопления]</td>\n",
       "      <td>[пенсия, время, отдыхать, и, тратить, заработа...</td>\n",
       "    </tr>\n",
       "    <tr>\n",
       "      <th>4</th>\n",
       "      <td>дальневосточная ипотека</td>\n",
       "      <td>в связи с переездом на дальний восток я решила...</td>\n",
       "      <td>vzo.ru</td>\n",
       "      <td>[дальневосточная, ипотека]</td>\n",
       "      <td>[в, связи, с, переездом, на, дальний, восток, ...</td>\n",
       "    </tr>\n",
       "  </tbody>\n",
       "</table>\n",
       "</div>"
      ],
      "text/plain": [
       "                           title  \\\n",
       "0                            мир   \n",
       "1                       развитие   \n",
       "2              интернетэквайринг   \n",
       "3  газфонд пенсионные накопления   \n",
       "4        дальневосточная ипотека   \n",
       "\n",
       "                                                text  source  \\\n",
       "0  пенсия моя уже несколько лет находится в нпф г...  vzo.ru   \n",
       "1  в свое время банк мне здорово помог и поддержа...  vzo.ru   \n",
       "2  серьезная проверка сайтаподдержка разных плате...  vzo.ru   \n",
       "3  пенсия  время отдыхать и тратить заработанное ...  vzo.ru   \n",
       "4  в связи с переездом на дальний восток я решила...  vzo.ru   \n",
       "\n",
       "                         title_words  \\\n",
       "0                              [мир]   \n",
       "1                         [развитие]   \n",
       "2                [интернетэквайринг]   \n",
       "3  [газфонд, пенсионные, накопления]   \n",
       "4         [дальневосточная, ипотека]   \n",
       "\n",
       "                                          text_words  \n",
       "0  [пенсия, моя, уже, несколько, лет, находится, ...  \n",
       "1  [в, свое, время, банк, мне, здорово, помог, и,...  \n",
       "2  [серьезная, проверка, сайтаподдержка, разных, ...  \n",
       "3  [пенсия, время, отдыхать, и, тратить, заработа...  \n",
       "4  [в, связи, с, переездом, на, дальний, восток, ...  "
      ]
     },
     "execution_count": 20,
     "metadata": {},
     "output_type": "execute_result"
    }
   ],
   "source": [
    "df.head()"
   ]
  },
  {
   "cell_type": "code",
   "execution_count": 17,
   "id": "eba32f6a",
   "metadata": {},
   "outputs": [],
   "source": [
    "big_df = pd.read_excel(\n",
    "    \"ready_xlsx_10241.xlsx\"\n",
    ")"
   ]
  },
  {
   "cell_type": "code",
   "execution_count": 18,
   "id": "0fc37fae",
   "metadata": {},
   "outputs": [
    {
     "data": {
      "text/html": [
       "<div>\n",
       "<style scoped>\n",
       "    .dataframe tbody tr th:only-of-type {\n",
       "        vertical-align: middle;\n",
       "    }\n",
       "\n",
       "    .dataframe tbody tr th {\n",
       "        vertical-align: top;\n",
       "    }\n",
       "\n",
       "    .dataframe thead th {\n",
       "        text-align: right;\n",
       "    }\n",
       "</style>\n",
       "<table border=\"1\" class=\"dataframe\">\n",
       "  <thead>\n",
       "    <tr style=\"text-align: right;\">\n",
       "      <th></th>\n",
       "      <th>Unnamed: 0</th>\n",
       "      <th>title</th>\n",
       "      <th>text</th>\n",
       "      <th>rating</th>\n",
       "      <th>date</th>\n",
       "      <th>source</th>\n",
       "      <th>title_words</th>\n",
       "      <th>text_words</th>\n",
       "    </tr>\n",
       "  </thead>\n",
       "  <tbody>\n",
       "    <tr>\n",
       "      <th>0</th>\n",
       "      <td>0</td>\n",
       "      <td>незаконно снята комиссия при переводе через сп...</td>\n",
       "      <td>при переводе через спб себе в другой банк была...</td>\n",
       "      <td>1</td>\n",
       "      <td>2025-01-08 16:26:00</td>\n",
       "      <td>banki.ru</td>\n",
       "      <td>['незаконно', 'снята', 'комиссия', 'при', 'пер...</td>\n",
       "      <td>['при', 'переводе', 'через', 'спб', 'себе', 'в...</td>\n",
       "    </tr>\n",
       "    <tr>\n",
       "      <th>1</th>\n",
       "      <td>1</td>\n",
       "      <td>без моего согласия подключены платные услуги</td>\n",
       "      <td>05102024 я онлайн оформиляла кредитную карту с...</td>\n",
       "      <td>1</td>\n",
       "      <td>2024-10-10 17:45:00</td>\n",
       "      <td>banki.ru</td>\n",
       "      <td>['без', 'моего', 'согласия', 'подключены', 'пл...</td>\n",
       "      <td>['05102024', 'я', 'онлайн', 'оформиляла', 'кре...</td>\n",
       "    </tr>\n",
       "    <tr>\n",
       "      <th>2</th>\n",
       "      <td>2</td>\n",
       "      <td>не могу закрыть кредитную карту с мая месяца и...</td>\n",
       "      <td>с мая месяца не могу закрыть кредитную карту г...</td>\n",
       "      <td>1</td>\n",
       "      <td>2025-08-04 14:52:00</td>\n",
       "      <td>banki.ru</td>\n",
       "      <td>['не', 'могу', 'закрыть', 'кредитную', 'карту'...</td>\n",
       "      <td>['с', 'мая', 'месяца', 'не', 'могу', 'закрыть'...</td>\n",
       "    </tr>\n",
       "    <tr>\n",
       "      <th>3</th>\n",
       "      <td>3</td>\n",
       "      <td>газпромбанк экономит на операторах нанимая для...</td>\n",
       "      <td>сколько бы не обращался для вызова оператора б...</td>\n",
       "      <td>1</td>\n",
       "      <td>2024-11-01 10:43:00</td>\n",
       "      <td>banki.ru</td>\n",
       "      <td>['газпромбанк', 'экономит', 'на', 'операторах'...</td>\n",
       "      <td>['сколько', 'бы', 'не', 'обращался', 'для', 'в...</td>\n",
       "    </tr>\n",
       "    <tr>\n",
       "      <th>4</th>\n",
       "      <td>4</td>\n",
       "      <td>обман с акцией приведи друга</td>\n",
       "      <td>в ноябре 2024г отправила другу ссылку на получ...</td>\n",
       "      <td>1</td>\n",
       "      <td>2025-01-11 21:37:00</td>\n",
       "      <td>banki.ru</td>\n",
       "      <td>['обман', 'с', 'акцией', 'приведи', 'друга']</td>\n",
       "      <td>['в', 'ноябре', '2024г', 'отправила', 'другу',...</td>\n",
       "    </tr>\n",
       "  </tbody>\n",
       "</table>\n",
       "</div>"
      ],
      "text/plain": [
       "   Unnamed: 0                                              title  \\\n",
       "0           0  незаконно снята комиссия при переводе через сп...   \n",
       "1           1       без моего согласия подключены платные услуги   \n",
       "2           2  не могу закрыть кредитную карту с мая месяца и...   \n",
       "3           3  газпромбанк экономит на операторах нанимая для...   \n",
       "4           4                       обман с акцией приведи друга   \n",
       "\n",
       "                                                text  rating  \\\n",
       "0  при переводе через спб себе в другой банк была...       1   \n",
       "1  05102024 я онлайн оформиляла кредитную карту с...       1   \n",
       "2  с мая месяца не могу закрыть кредитную карту г...       1   \n",
       "3  сколько бы не обращался для вызова оператора б...       1   \n",
       "4  в ноябре 2024г отправила другу ссылку на получ...       1   \n",
       "\n",
       "                 date    source  \\\n",
       "0 2025-01-08 16:26:00  banki.ru   \n",
       "1 2024-10-10 17:45:00  banki.ru   \n",
       "2 2025-08-04 14:52:00  banki.ru   \n",
       "3 2024-11-01 10:43:00  banki.ru   \n",
       "4 2025-01-11 21:37:00  banki.ru   \n",
       "\n",
       "                                         title_words  \\\n",
       "0  ['незаконно', 'снята', 'комиссия', 'при', 'пер...   \n",
       "1  ['без', 'моего', 'согласия', 'подключены', 'пл...   \n",
       "2  ['не', 'могу', 'закрыть', 'кредитную', 'карту'...   \n",
       "3  ['газпромбанк', 'экономит', 'на', 'операторах'...   \n",
       "4       ['обман', 'с', 'акцией', 'приведи', 'друга']   \n",
       "\n",
       "                                          text_words  \n",
       "0  ['при', 'переводе', 'через', 'спб', 'себе', 'в...  \n",
       "1  ['05102024', 'я', 'онлайн', 'оформиляла', 'кре...  \n",
       "2  ['с', 'мая', 'месяца', 'не', 'могу', 'закрыть'...  \n",
       "3  ['сколько', 'бы', 'не', 'обращался', 'для', 'в...  \n",
       "4  ['в', 'ноябре', '2024г', 'отправила', 'другу',...  "
      ]
     },
     "execution_count": 18,
     "metadata": {},
     "output_type": "execute_result"
    }
   ],
   "source": [
    "big_df.head()"
   ]
  },
  {
   "cell_type": "code",
   "execution_count": 19,
   "id": "e7841ac6",
   "metadata": {},
   "outputs": [
    {
     "data": {
      "text/plain": [
       "(7482, 8)"
      ]
     },
     "execution_count": 19,
     "metadata": {},
     "output_type": "execute_result"
    }
   ],
   "source": [
    "absolutely_negative = big_df[big_df[\"rating\"]==1]\n",
    "absolutely_negative.shape"
   ]
  },
  {
   "cell_type": "code",
   "execution_count": 21,
   "id": "94af849c",
   "metadata": {},
   "outputs": [
    {
     "data": {
      "text/plain": [
       "(1241, 8)"
      ]
     },
     "execution_count": 21,
     "metadata": {},
     "output_type": "execute_result"
    }
   ],
   "source": [
    "absolutely_positive = big_df[big_df[\"rating\"]==5]\n",
    "absolutely_positive.shape"
   ]
  },
  {
   "cell_type": "code",
   "execution_count": 22,
   "id": "d619015f",
   "metadata": {},
   "outputs": [
    {
     "data": {
      "text/plain": [
       "(591, 5)"
      ]
     },
     "execution_count": 22,
     "metadata": {},
     "output_type": "execute_result"
    }
   ],
   "source": [
    "df.shape"
   ]
  },
  {
   "cell_type": "code",
   "execution_count": 23,
   "id": "d5c1cfc2",
   "metadata": {},
   "outputs": [
    {
     "data": {
      "text/plain": [
       "1832"
      ]
     },
     "execution_count": 23,
     "metadata": {},
     "output_type": "execute_result"
    }
   ],
   "source": [
    "591+1241"
   ]
  },
  {
   "cell_type": "code",
   "execution_count": 27,
   "id": "2aba227c",
   "metadata": {},
   "outputs": [],
   "source": [
    "absolute_df = pd.concat(\n",
    "    [\n",
    "        absolutely_positive,\n",
    "        absolutely_negative.iloc[:1833]\n",
    "    ]\n",
    ")[[\n",
    "    \"title\",\n",
    "    \"text\",\n",
    "    \"source\",\n",
    "    \"title_words\",\n",
    "    \"text_words\"\n",
    "]]\n",
    "\n",
    "sampled_df = pd.concat(\n",
    "    [\n",
    "        absolute_df,\n",
    "        df\n",
    "    ]\n",
    ")"
   ]
  },
  {
   "cell_type": "code",
   "execution_count": 28,
   "id": "0fe6b9be",
   "metadata": {},
   "outputs": [
    {
     "data": {
      "text/plain": [
       "(3665, 5)"
      ]
     },
     "execution_count": 28,
     "metadata": {},
     "output_type": "execute_result"
    }
   ],
   "source": [
    "sampled_df.shape"
   ]
  },
  {
   "cell_type": "code",
   "execution_count": 29,
   "id": "b4d39543",
   "metadata": {},
   "outputs": [],
   "source": [
    "sampled_df.to_json(\n",
    "    \"ballanced_dataset.json\",\n",
    "    orient=\"records\"\n",
    ")"
   ]
  }
 ],
 "metadata": {
  "kernelspec": {
   "display_name": "venv (3.12.3)",
   "language": "python",
   "name": "python3"
  },
  "language_info": {
   "codemirror_mode": {
    "name": "ipython",
    "version": 3
   },
   "file_extension": ".py",
   "mimetype": "text/x-python",
   "name": "python",
   "nbconvert_exporter": "python",
   "pygments_lexer": "ipython3",
   "version": "3.12.3"
  }
 },
 "nbformat": 4,
 "nbformat_minor": 5
}
