{
 "cells": [
  {
   "cell_type": "code",
   "execution_count": 2,
   "id": "62fd2e34",
   "metadata": {},
   "outputs": [],
   "source": [
    "import pandas as pd\n",
    "import numpy as np\n",
    "import matplotlib.pyplot as plt\n",
    "import sklearn as sk"
   ]
  },
  {
   "cell_type": "code",
   "execution_count": 3,
   "id": "c1a15d94",
   "metadata": {},
   "outputs": [],
   "source": [
    "import re"
   ]
  },
  {
   "cell_type": "code",
   "execution_count": 4,
   "id": "9c80020f",
   "metadata": {},
   "outputs": [],
   "source": [
    "df = pd.read_excel(\n",
    "    \"raw.xlsx\",\n",
    "    parse_dates=[\"date\"]\n",
    ")\n"
   ]
  },
  {
   "cell_type": "code",
   "execution_count": 5,
   "id": "17c442d5",
   "metadata": {},
   "outputs": [],
   "source": [
    "df = df[[\"title\", \"text\", \"rating\", \"date\", \"source\"]]\n",
    "df.date = pd.to_datetime(df['date'])"
   ]
  },
  {
   "cell_type": "code",
   "execution_count": 6,
   "id": "776a4fa5",
   "metadata": {},
   "outputs": [
    {
     "data": {
      "text/html": [
       "<div>\n",
       "<style scoped>\n",
       "    .dataframe tbody tr th:only-of-type {\n",
       "        vertical-align: middle;\n",
       "    }\n",
       "\n",
       "    .dataframe tbody tr th {\n",
       "        vertical-align: top;\n",
       "    }\n",
       "\n",
       "    .dataframe thead th {\n",
       "        text-align: right;\n",
       "    }\n",
       "</style>\n",
       "<table border=\"1\" class=\"dataframe\">\n",
       "  <thead>\n",
       "    <tr style=\"text-align: right;\">\n",
       "      <th></th>\n",
       "      <th>title</th>\n",
       "      <th>text</th>\n",
       "      <th>rating</th>\n",
       "      <th>date</th>\n",
       "      <th>source</th>\n",
       "    </tr>\n",
       "  </thead>\n",
       "  <tbody>\n",
       "    <tr>\n",
       "      <th>0</th>\n",
       "      <td>Незаконно снята комиссия при переводе через СП...</td>\n",
       "      <td>При переводе через СПБ себе в другой банк была...</td>\n",
       "      <td>1</td>\n",
       "      <td>2025-01-08 16:26:00</td>\n",
       "      <td>banki.ru</td>\n",
       "    </tr>\n",
       "    <tr>\n",
       "      <th>1</th>\n",
       "      <td>Без моего согласия подключены платные услуги</td>\n",
       "      <td>05.10.2024 я онлайн оформиляла кредитную карту...</td>\n",
       "      <td>1</td>\n",
       "      <td>2024-10-10 17:45:00</td>\n",
       "      <td>banki.ru</td>\n",
       "    </tr>\n",
       "    <tr>\n",
       "      <th>2</th>\n",
       "      <td>Не могу закрыть кредитную карту с мая месяца и...</td>\n",
       "      <td>С мая месяца не могу закрыть кредитную карту г...</td>\n",
       "      <td>1</td>\n",
       "      <td>2025-08-04 14:52:00</td>\n",
       "      <td>banki.ru</td>\n",
       "    </tr>\n",
       "    <tr>\n",
       "      <th>3</th>\n",
       "      <td>Газпромбанк экономит на операторах, нанимая дл...</td>\n",
       "      <td>Сколько бы не обращался для вызова Оператора, ...</td>\n",
       "      <td>1</td>\n",
       "      <td>2024-11-01 10:43:00</td>\n",
       "      <td>banki.ru</td>\n",
       "    </tr>\n",
       "    <tr>\n",
       "      <th>4</th>\n",
       "      <td>Обман с акцией “Приведи друга”</td>\n",
       "      <td>В ноябре 2024г отправила другу ссылку на получ...</td>\n",
       "      <td>1</td>\n",
       "      <td>2025-01-11 21:37:00</td>\n",
       "      <td>banki.ru</td>\n",
       "    </tr>\n",
       "  </tbody>\n",
       "</table>\n",
       "</div>"
      ],
      "text/plain": [
       "                                               title  \\\n",
       "0  Незаконно снята комиссия при переводе через СП...   \n",
       "1       Без моего согласия подключены платные услуги   \n",
       "2  Не могу закрыть кредитную карту с мая месяца и...   \n",
       "3  Газпромбанк экономит на операторах, нанимая дл...   \n",
       "4                     Обман с акцией “Приведи друга”   \n",
       "\n",
       "                                                text  rating  \\\n",
       "0  При переводе через СПБ себе в другой банк была...       1   \n",
       "1  05.10.2024 я онлайн оформиляла кредитную карту...       1   \n",
       "2  С мая месяца не могу закрыть кредитную карту г...       1   \n",
       "3  Сколько бы не обращался для вызова Оператора, ...       1   \n",
       "4  В ноябре 2024г отправила другу ссылку на получ...       1   \n",
       "\n",
       "                 date    source  \n",
       "0 2025-01-08 16:26:00  banki.ru  \n",
       "1 2024-10-10 17:45:00  banki.ru  \n",
       "2 2025-08-04 14:52:00  banki.ru  \n",
       "3 2024-11-01 10:43:00  banki.ru  \n",
       "4 2025-01-11 21:37:00  banki.ru  "
      ]
     },
     "execution_count": 6,
     "metadata": {},
     "output_type": "execute_result"
    }
   ],
   "source": [
    "df.head()"
   ]
  },
  {
   "cell_type": "code",
   "execution_count": 7,
   "id": "84b2f122",
   "metadata": {},
   "outputs": [
    {
     "data": {
      "text/html": [
       "<div>\n",
       "<style scoped>\n",
       "    .dataframe tbody tr th:only-of-type {\n",
       "        vertical-align: middle;\n",
       "    }\n",
       "\n",
       "    .dataframe tbody tr th {\n",
       "        vertical-align: top;\n",
       "    }\n",
       "\n",
       "    .dataframe thead th {\n",
       "        text-align: right;\n",
       "    }\n",
       "</style>\n",
       "<table border=\"1\" class=\"dataframe\">\n",
       "  <thead>\n",
       "    <tr style=\"text-align: right;\">\n",
       "      <th></th>\n",
       "      <th>title</th>\n",
       "      <th>text</th>\n",
       "      <th>rating</th>\n",
       "      <th>date</th>\n",
       "      <th>source</th>\n",
       "      <th>title_words</th>\n",
       "      <th>text_words</th>\n",
       "    </tr>\n",
       "  </thead>\n",
       "  <tbody>\n",
       "    <tr>\n",
       "      <th>0</th>\n",
       "      <td>незаконно снята комиссия при переводе через сп...</td>\n",
       "      <td>при переводе через спб себе в другой банк была...</td>\n",
       "      <td>1</td>\n",
       "      <td>2025-01-08 16:26:00</td>\n",
       "      <td>banki.ru</td>\n",
       "      <td>[незаконно, снята, комиссия, при, переводе, че...</td>\n",
       "      <td>[при, переводе, через, спб, себе, в, другой, б...</td>\n",
       "    </tr>\n",
       "    <tr>\n",
       "      <th>1</th>\n",
       "      <td>без моего согласия подключены платные услуги</td>\n",
       "      <td>05102024 я онлайн оформиляла кредитную карту с...</td>\n",
       "      <td>1</td>\n",
       "      <td>2024-10-10 17:45:00</td>\n",
       "      <td>banki.ru</td>\n",
       "      <td>[без, моего, согласия, подключены, платные, ус...</td>\n",
       "      <td>[05102024, я, онлайн, оформиляла, кредитную, к...</td>\n",
       "    </tr>\n",
       "    <tr>\n",
       "      <th>2</th>\n",
       "      <td>не могу закрыть кредитную карту с мая месяца и...</td>\n",
       "      <td>с мая месяца не могу закрыть кредитную карту г...</td>\n",
       "      <td>1</td>\n",
       "      <td>2025-08-04 14:52:00</td>\n",
       "      <td>banki.ru</td>\n",
       "      <td>[не, могу, закрыть, кредитную, карту, с, мая, ...</td>\n",
       "      <td>[с, мая, месяца, не, могу, закрыть, кредитную,...</td>\n",
       "    </tr>\n",
       "    <tr>\n",
       "      <th>3</th>\n",
       "      <td>газпромбанк экономит на операторах нанимая для...</td>\n",
       "      <td>сколько бы не обращался для вызова оператора б...</td>\n",
       "      <td>1</td>\n",
       "      <td>2024-11-01 10:43:00</td>\n",
       "      <td>banki.ru</td>\n",
       "      <td>[газпромбанк, экономит, на, операторах, нанима...</td>\n",
       "      <td>[сколько, бы, не, обращался, для, вызова, опер...</td>\n",
       "    </tr>\n",
       "    <tr>\n",
       "      <th>4</th>\n",
       "      <td>обман с акцией приведи друга</td>\n",
       "      <td>в ноябре 2024г отправила другу ссылку на получ...</td>\n",
       "      <td>1</td>\n",
       "      <td>2025-01-11 21:37:00</td>\n",
       "      <td>banki.ru</td>\n",
       "      <td>[обман, с, акцией, приведи, друга]</td>\n",
       "      <td>[в, ноябре, 2024г, отправила, другу, ссылку, н...</td>\n",
       "    </tr>\n",
       "  </tbody>\n",
       "</table>\n",
       "</div>"
      ],
      "text/plain": [
       "                                               title  \\\n",
       "0  незаконно снята комиссия при переводе через сп...   \n",
       "1       без моего согласия подключены платные услуги   \n",
       "2  не могу закрыть кредитную карту с мая месяца и...   \n",
       "3  газпромбанк экономит на операторах нанимая для...   \n",
       "4                       обман с акцией приведи друга   \n",
       "\n",
       "                                                text  rating  \\\n",
       "0  при переводе через спб себе в другой банк была...       1   \n",
       "1  05102024 я онлайн оформиляла кредитную карту с...       1   \n",
       "2  с мая месяца не могу закрыть кредитную карту г...       1   \n",
       "3  сколько бы не обращался для вызова оператора б...       1   \n",
       "4  в ноябре 2024г отправила другу ссылку на получ...       1   \n",
       "\n",
       "                 date    source  \\\n",
       "0 2025-01-08 16:26:00  banki.ru   \n",
       "1 2024-10-10 17:45:00  banki.ru   \n",
       "2 2025-08-04 14:52:00  banki.ru   \n",
       "3 2024-11-01 10:43:00  banki.ru   \n",
       "4 2025-01-11 21:37:00  banki.ru   \n",
       "\n",
       "                                         title_words  \\\n",
       "0  [незаконно, снята, комиссия, при, переводе, че...   \n",
       "1  [без, моего, согласия, подключены, платные, ус...   \n",
       "2  [не, могу, закрыть, кредитную, карту, с, мая, ...   \n",
       "3  [газпромбанк, экономит, на, операторах, нанима...   \n",
       "4                 [обман, с, акцией, приведи, друга]   \n",
       "\n",
       "                                          text_words  \n",
       "0  [при, переводе, через, спб, себе, в, другой, б...  \n",
       "1  [05102024, я, онлайн, оформиляла, кредитную, к...  \n",
       "2  [с, мая, месяца, не, могу, закрыть, кредитную,...  \n",
       "3  [сколько, бы, не, обращался, для, вызова, опер...  \n",
       "4  [в, ноябре, 2024г, отправила, другу, ссылку, н...  "
      ]
     },
     "execution_count": 7,
     "metadata": {},
     "output_type": "execute_result"
    }
   ],
   "source": [
    "import re\n",
    "\n",
    "def ser_cleaner(row):\n",
    "    row[\"title\"] = re.sub(r'[^\\w\\s]', '', str(row[\"title\"]).strip().lower())\n",
    "    row[\"text\"] = re.sub(r'[^\\w\\s]', '', str(row[\"text\"]).strip().lower())\n",
    "    row[\"title_words\"] = row[\"title\"].split()\n",
    "    row[\"text_words\"] = row[\"text\"].split()\n",
    "    return row\n",
    "\n",
    "\n",
    "df = df.apply(ser_cleaner, axis=1)\n",
    "\n",
    "df.head()\n",
    "\n"
   ]
  },
  {
   "cell_type": "code",
   "execution_count": 8,
   "id": "48263d04",
   "metadata": {},
   "outputs": [],
   "source": [
    "df = df[df['date'].notna()]"
   ]
  },
  {
   "cell_type": "code",
   "execution_count": 9,
   "id": "d52603d0",
   "metadata": {},
   "outputs": [
    {
     "name": "stdout",
     "output_type": "stream",
     "text": [
      "<class 'pandas.core.frame.DataFrame'>\n",
      "RangeIndex: 10241 entries, 0 to 10240\n",
      "Data columns (total 7 columns):\n",
      " #   Column       Non-Null Count  Dtype         \n",
      "---  ------       --------------  -----         \n",
      " 0   title        10241 non-null  object        \n",
      " 1   text         10241 non-null  object        \n",
      " 2   rating       10241 non-null  int64         \n",
      " 3   date         10241 non-null  datetime64[ns]\n",
      " 4   source       10241 non-null  object        \n",
      " 5   title_words  10241 non-null  object        \n",
      " 6   text_words   10241 non-null  object        \n",
      "dtypes: datetime64[ns](1), int64(1), object(5)\n",
      "memory usage: 560.2+ KB\n"
     ]
    }
   ],
   "source": [
    "df.info()"
   ]
  },
  {
   "cell_type": "code",
   "execution_count": 10,
   "id": "c123eaa0",
   "metadata": {},
   "outputs": [
    {
     "data": {
      "text/plain": [
       "(10241, 7)"
      ]
     },
     "execution_count": 10,
     "metadata": {},
     "output_type": "execute_result"
    }
   ],
   "source": [
    "df.shape"
   ]
  },
  {
   "cell_type": "code",
   "execution_count": 11,
   "id": "dad6a809",
   "metadata": {},
   "outputs": [],
   "source": [
    "df.to_csv(\"ready_csv_10241.csv\")\n",
    "df.to_excel(\"ready_xlsx_10241.xlsx\")\n",
    "df.to_json(\"ready_json_10241.json\", orient=\"records\")"
   ]
  }
 ],
 "metadata": {
  "kernelspec": {
   "display_name": "venv (3.12.3)",
   "language": "python",
   "name": "python3"
  },
  "language_info": {
   "codemirror_mode": {
    "name": "ipython",
    "version": 3
   },
   "file_extension": ".py",
   "mimetype": "text/x-python",
   "name": "python",
   "nbconvert_exporter": "python",
   "pygments_lexer": "ipython3",
   "version": "3.12.3"
  }
 },
 "nbformat": 4,
 "nbformat_minor": 5
}
